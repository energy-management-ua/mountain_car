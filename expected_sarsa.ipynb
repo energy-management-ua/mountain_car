{
 "cells": [
  {
   "attachments": {},
   "cell_type": "markdown",
   "metadata": {},
   "source": [
    "#### Imports"
   ]
  },
  {
   "cell_type": "code",
   "execution_count": 9,
   "metadata": {},
   "outputs": [],
   "source": [
    "from __future__ import annotations\n",
    "import matplotlib.pyplot as plt\n",
    "import matplotlib.ticker as ticker\n",
    "import gym\n",
    "import numpy as np\n",
    "import sys\n",
    "from tqdm import tqdm\n",
    "import gymnasium as gym\n",
    "import cv2"
   ]
  },
  {
   "attachments": {},
   "cell_type": "markdown",
   "metadata": {},
   "source": [
    "#### Create Mountain Car Environment"
   ]
  },
  {
   "cell_type": "code",
   "execution_count": 10,
   "metadata": {},
   "outputs": [],
   "source": [
    "env = gym.make('MountainCar-v0', render_mode='rgb_array')"
   ]
  },
  {
   "attachments": {},
   "cell_type": "markdown",
   "metadata": {},
   "source": [
    "#### RL Agent"
   ]
  },
  {
   "cell_type": "code",
   "execution_count": 11,
   "metadata": {},
   "outputs": [],
   "source": [
    "class MountainCarAgent:\n",
    "    def __init__(\n",
    "                    self,\n",
    "                    learning_rate: float,\n",
    "                    discount_factor: float,\n",
    "                    number_of_actions: int,\n",
    "                    start_epsilon: float,\n",
    "                    epsilon_decay: float,\n",
    "                    final_epsilon: float,\n",
    "                    n: int,\n",
    "        ):\n",
    "        \"\"\"\n",
    "        Initialize the agent's variables and create Q and e-greedy policy.\n",
    "\n",
    "        Args:\n",
    "            learning_rate: The learning rate\n",
    "            discount_factor: The discount factor for computing the Q-value\n",
    "            number_of_actions: The number of actions\n",
    "            start_epsilon: The start value for epsilon,\n",
    "            epsilon_decay: The amount epsilon decays each episode,\n",
    "            final_epsilon: The final epsilon value,\n",
    "            n: The number of steps for n-step expected SARSA\n",
    "        \"\"\"\n",
    "        \n",
    "        self.learning_rate=learning_rate\n",
    "        self.discount_factor=discount_factor\n",
    "        self.number_of_actions=number_of_actions\n",
    "        self.epsilon=start_epsilon\n",
    "        self.epsilon_decay=epsilon_decay\n",
    "        self.final_epsilon=final_epsilon\n",
    "        self.n=n\n",
    "        self.training_error = []\n",
    "\n",
    "        self.position_space  = np.linspace(-1.2, 0.6, 25)\n",
    "        self.velocity_space = np.linspace(-0.07, 0.07, 25)\n",
    "\n",
    "        self.stored_rewards = {}\n",
    "        self.stored_states = {}\n",
    "        self.stored_actions = {}\n",
    "        \n",
    "        # initialize Q\n",
    "        states = []\n",
    "        for position in range(len(self.position_space) + 1):\n",
    "            for velocity in range(len(self.velocity_space) + 1):\n",
    "                states.append((position, velocity))\n",
    "\n",
    "        Q = {}\n",
    "        for state in states:\n",
    "            for action in range(3):\n",
    "                Q[(state, action)] = 0.0\n",
    "        \n",
    "        self.Q = Q\n",
    "        self.policy = self.create_epsilon_greedy_policy()\n",
    "\n",
    "    def get_state(self, state):\n",
    "        \"\"\"\n",
    "        State Aggregation.\n",
    "\n",
    "        Returns:\n",
    "            A tuple containing the aggregated position and a velocity values.\n",
    "        \"\"\"\n",
    "        \n",
    "        position, velocity = state\n",
    "        position = np.digitize(position, self.position_space)\n",
    "        velocity = np.digitize(velocity, self.velocity_space)\n",
    "\n",
    "        return (position, velocity)\n",
    "    \n",
    "    def create_epsilon_greedy_policy(self):\n",
    "        \"\"\"\n",
    "        Creates an epsilon greed policy based on the Q values.\n",
    "            \n",
    "        Returns:\n",
    "            A numpy array of length number_of_actions specifying the probability of selecting each \n",
    "            action given the observations.\n",
    "        \"\"\"\n",
    "\n",
    "        def policy_fn(state):\n",
    "            # initialize action values\n",
    "            A = np.ones(self.number_of_actions, dtype=float) * (self.epsilon/self.number_of_actions)\n",
    "            \n",
    "            # get the best action for current state\n",
    "            best_action = 2\n",
    "            highest_reward = sys.maxsize * -1\n",
    "            for a in range(3):\n",
    "                if self.Q[ (state, a) ] > highest_reward:\n",
    "                    highest_reward = self.Q[ (state, a) ]\n",
    "                    best_action = a\n",
    "            # update probability of current action\n",
    "            A[best_action] += 1.0 - self.epsilon\n",
    "            return A\n",
    "        \n",
    "        return policy_fn\n",
    "    \n",
    "    def decay_epsilon(self):\n",
    "        \"\"\"\n",
    "        Decay epsilon based on decay value. \n",
    "        \"\"\"\n",
    "\n",
    "        self.epsilon = max(self.final_epsilon, self.epsilon - self.epsilon_decay)\n",
    "\n",
    "    def update(self, tau, n, T):  \n",
    "        \"\"\"\n",
    "        Update Q using n-step Expected SARSA algorithm and aggregated states. \n",
    "        \"\"\"     \n",
    "\n",
    "        # caluclate return\n",
    "        G = np.sum([(self.discount_factor**(i-tau-1)) * self.stored_rewards[i % (n+1)] for i  in range(tau+1, min(tau+n, T)+1)])\n",
    "        \n",
    "        # calculate value of all actions weighted by their probabilities under pi.\n",
    "        if tau + n < T:\n",
    "            exp_sarsa_update = []\n",
    "            state = self.get_state( self.stored_states[(tau+n) % (n+1)] )\n",
    "            for a in range( self.number_of_actions ):\n",
    "                probability_of_a = self.policy( state )[a] \n",
    "                value_of_a = self.Q[ (state, a) ] \n",
    "                exp_sarsa_update.append( (probability_of_a * value_of_a) )\n",
    "            exp_sarsa_update = sum( exp_sarsa_update )\n",
    "\n",
    "            G += (self.discount_factor ** n) * exp_sarsa_update\n",
    "        \n",
    "        # update Q value\n",
    "        s_tau = self.get_state( self.stored_states[tau % (n+1)] ) \n",
    "        a_tau = self.stored_actions[tau % (n+1)]\n",
    "        temporal_difference = G - self.Q[ (s_tau, a_tau) ]\n",
    "        self.Q[ (s_tau, a_tau) ] += self.learning_rate * temporal_difference\n",
    "        self.training_error.append(temporal_difference)"
   ]
  },
  {
   "attachments": {},
   "cell_type": "markdown",
   "metadata": {},
   "source": [
    "#### Instantiate MountainCarAgent"
   ]
  },
  {
   "cell_type": "code",
   "execution_count": 12,
   "metadata": {},
   "outputs": [],
   "source": [
    "# hyperparameters\n",
    "number_of_actions = env.action_space.n\n",
    "n = 10\n",
    "n_episodes = 30000\n",
    "discount_factor = 0.95\n",
    "learning_rate = 0.05\n",
    "start_epsilon = 1\n",
    "epsilon_decay = start_epsilon / (n_episodes/2) \n",
    "final_epsilon = 0\n",
    "\n",
    "agent = MountainCarAgent(\n",
    "    learning_rate=learning_rate,\n",
    "    discount_factor=discount_factor,\n",
    "    number_of_actions=number_of_actions,\n",
    "    start_epsilon=start_epsilon,\n",
    "    epsilon_decay=epsilon_decay,\n",
    "    final_epsilon=final_epsilon,\n",
    "    n=n\n",
    ")"
   ]
  },
  {
   "attachments": {},
   "cell_type": "markdown",
   "metadata": {},
   "source": [
    "#### Training"
   ]
  },
  {
   "cell_type": "code",
   "execution_count": 13,
   "metadata": {},
   "outputs": [
    {
     "name": "stderr",
     "output_type": "stream",
     "text": [
      "  3%|▎         | 1014/30000 [00:14<06:53, 70.18it/s]"
     ]
    },
    {
     "name": "stdout",
     "output_type": "stream",
     "text": [
      "\n",
      "\tMade it to the top 0 times out of 1000, 0.0% of the episodes\n",
      "\n"
     ]
    },
    {
     "name": "stderr",
     "output_type": "stream",
     "text": [
      "  7%|▋         | 2009/30000 [00:28<06:38, 70.17it/s]"
     ]
    },
    {
     "name": "stdout",
     "output_type": "stream",
     "text": [
      "\n",
      "\tMade it to the top 0 times out of 1000, 0.0% of the episodes\n",
      "\n"
     ]
    },
    {
     "name": "stderr",
     "output_type": "stream",
     "text": [
      " 10%|█         | 3009/30000 [00:42<06:57, 64.64it/s]"
     ]
    },
    {
     "name": "stdout",
     "output_type": "stream",
     "text": [
      "\n",
      "\tMade it to the top 0 times out of 1000, 0.0% of the episodes\n",
      "\n"
     ]
    },
    {
     "name": "stderr",
     "output_type": "stream",
     "text": [
      " 13%|█▎        | 4010/30000 [00:57<06:26, 67.18it/s]"
     ]
    },
    {
     "name": "stdout",
     "output_type": "stream",
     "text": [
      "\n",
      "\tMade it to the top 0 times out of 1000, 0.0% of the episodes\n",
      "\n"
     ]
    },
    {
     "name": "stderr",
     "output_type": "stream",
     "text": [
      " 17%|█▋        | 5010/30000 [01:13<06:26, 64.63it/s]"
     ]
    },
    {
     "name": "stdout",
     "output_type": "stream",
     "text": [
      "\n",
      "\tMade it to the top 0 times out of 1000, 0.0% of the episodes\n",
      "\n"
     ]
    },
    {
     "name": "stderr",
     "output_type": "stream",
     "text": [
      " 20%|██        | 6012/30000 [01:28<05:59, 66.70it/s]"
     ]
    },
    {
     "name": "stdout",
     "output_type": "stream",
     "text": [
      "\n",
      "\tMade it to the top 0 times out of 1000, 0.0% of the episodes\n",
      "\n"
     ]
    },
    {
     "name": "stderr",
     "output_type": "stream",
     "text": [
      " 23%|██▎       | 7008/30000 [01:43<05:46, 66.34it/s]"
     ]
    },
    {
     "name": "stdout",
     "output_type": "stream",
     "text": [
      "\n",
      "\tMade it to the top 0 times out of 1000, 0.0% of the episodes\n",
      "\n"
     ]
    },
    {
     "name": "stderr",
     "output_type": "stream",
     "text": [
      " 27%|██▋       | 8008/30000 [01:58<06:04, 60.38it/s]"
     ]
    },
    {
     "name": "stdout",
     "output_type": "stream",
     "text": [
      "\n",
      "\tMade it to the top 0 times out of 1000, 0.0% of the episodes\n",
      "\n"
     ]
    },
    {
     "name": "stderr",
     "output_type": "stream",
     "text": [
      " 30%|███       | 9008/30000 [02:14<05:14, 66.83it/s]"
     ]
    },
    {
     "name": "stdout",
     "output_type": "stream",
     "text": [
      "\n",
      "\tMade it to the top 3 times out of 1000, 0.3% of the episodes\n",
      "\n"
     ]
    },
    {
     "name": "stderr",
     "output_type": "stream",
     "text": [
      " 33%|███▎      | 10008/30000 [02:41<2:43:53,  2.03it/s]"
     ]
    },
    {
     "name": "stdout",
     "output_type": "stream",
     "text": [
      "\n",
      "\tMade it to the top 19 times out of 1000, 1.9% of the episodes\n",
      "\n"
     ]
    },
    {
     "name": "stderr",
     "output_type": "stream",
     "text": [
      " 37%|███▋      | 11012/30000 [02:56<04:15, 74.33it/s]  "
     ]
    },
    {
     "name": "stdout",
     "output_type": "stream",
     "text": [
      "\n",
      "\tMade it to the top 344 times out of 1000, 34.4% of the episodes\n",
      "\n"
     ]
    },
    {
     "name": "stderr",
     "output_type": "stream",
     "text": [
      " 40%|████      | 12016/30000 [03:10<04:11, 71.57it/s]"
     ]
    },
    {
     "name": "stdout",
     "output_type": "stream",
     "text": [
      "\n",
      "\tMade it to the top 650 times out of 1000, 65.0% of the episodes\n",
      "\n"
     ]
    },
    {
     "name": "stderr",
     "output_type": "stream",
     "text": [
      " 43%|████▎     | 13018/30000 [03:22<03:10, 89.24it/s]"
     ]
    },
    {
     "name": "stdout",
     "output_type": "stream",
     "text": [
      "\n",
      "\tMade it to the top 884 times out of 1000, 88.4% of the episodes\n",
      "\n"
     ]
    },
    {
     "name": "stderr",
     "output_type": "stream",
     "text": [
      " 47%|████▋     | 14018/30000 [03:33<02:58, 89.60it/s] "
     ]
    },
    {
     "name": "stdout",
     "output_type": "stream",
     "text": [
      "\n",
      "\tMade it to the top 998 times out of 1000, 99.8% of the episodes\n",
      "\n"
     ]
    },
    {
     "name": "stderr",
     "output_type": "stream",
     "text": [
      " 50%|█████     | 15022/30000 [03:51<36:39,  6.81it/s] "
     ]
    },
    {
     "name": "stdout",
     "output_type": "stream",
     "text": [
      "\n",
      "\tMade it to the top 1000 times out of 1000, 100.0% of the episodes\n",
      "\n"
     ]
    },
    {
     "name": "stderr",
     "output_type": "stream",
     "text": [
      " 53%|█████▎    | 16021/30000 [03:59<02:09, 107.68it/s]"
     ]
    },
    {
     "name": "stdout",
     "output_type": "stream",
     "text": [
      "\n",
      "\tMade it to the top 1000 times out of 1000, 100.0% of the episodes\n",
      "\n"
     ]
    },
    {
     "name": "stderr",
     "output_type": "stream",
     "text": [
      " 57%|█████▋    | 17012/30000 [04:09<02:05, 103.74it/s]"
     ]
    },
    {
     "name": "stdout",
     "output_type": "stream",
     "text": [
      "\n",
      "\tMade it to the top 1000 times out of 1000, 100.0% of the episodes\n",
      "\n"
     ]
    },
    {
     "name": "stderr",
     "output_type": "stream",
     "text": [
      " 60%|██████    | 18025/30000 [04:18<01:39, 120.11it/s]"
     ]
    },
    {
     "name": "stdout",
     "output_type": "stream",
     "text": [
      "\n",
      "\tMade it to the top 1000 times out of 1000, 100.0% of the episodes\n",
      "\n"
     ]
    },
    {
     "name": "stderr",
     "output_type": "stream",
     "text": [
      " 63%|██████▎   | 19022/30000 [04:26<01:26, 126.62it/s]"
     ]
    },
    {
     "name": "stdout",
     "output_type": "stream",
     "text": [
      "\n",
      "\tMade it to the top 1000 times out of 1000, 100.0% of the episodes\n",
      "\n"
     ]
    },
    {
     "name": "stderr",
     "output_type": "stream",
     "text": [
      " 67%|██████▋   | 20025/30000 [04:47<32:01,  5.19it/s] "
     ]
    },
    {
     "name": "stdout",
     "output_type": "stream",
     "text": [
      "\n",
      "\tMade it to the top 1000 times out of 1000, 100.0% of the episodes\n",
      "\n"
     ]
    },
    {
     "name": "stderr",
     "output_type": "stream",
     "text": [
      " 70%|███████   | 21014/30000 [04:55<01:21, 110.30it/s]"
     ]
    },
    {
     "name": "stdout",
     "output_type": "stream",
     "text": [
      "\n",
      "\tMade it to the top 1000 times out of 1000, 100.0% of the episodes\n",
      "\n"
     ]
    },
    {
     "name": "stderr",
     "output_type": "stream",
     "text": [
      " 73%|███████▎  | 22017/30000 [05:05<01:11, 110.93it/s]"
     ]
    },
    {
     "name": "stdout",
     "output_type": "stream",
     "text": [
      "\n",
      "\tMade it to the top 1000 times out of 1000, 100.0% of the episodes\n",
      "\n"
     ]
    },
    {
     "name": "stderr",
     "output_type": "stream",
     "text": [
      " 77%|███████▋  | 23020/30000 [05:14<01:00, 115.32it/s]"
     ]
    },
    {
     "name": "stdout",
     "output_type": "stream",
     "text": [
      "\n",
      "\tMade it to the top 1000 times out of 1000, 100.0% of the episodes\n",
      "\n"
     ]
    },
    {
     "name": "stderr",
     "output_type": "stream",
     "text": [
      " 80%|████████  | 24012/30000 [05:23<00:57, 103.50it/s]"
     ]
    },
    {
     "name": "stdout",
     "output_type": "stream",
     "text": [
      "\n",
      "\tMade it to the top 1000 times out of 1000, 100.0% of the episodes\n",
      "\n"
     ]
    },
    {
     "name": "stderr",
     "output_type": "stream",
     "text": [
      " 83%|████████▎ | 25019/30000 [05:40<11:42,  7.09it/s] "
     ]
    },
    {
     "name": "stdout",
     "output_type": "stream",
     "text": [
      "\n",
      "\tMade it to the top 1000 times out of 1000, 100.0% of the episodes\n",
      "\n"
     ]
    },
    {
     "name": "stderr",
     "output_type": "stream",
     "text": [
      " 87%|████████▋ | 26026/30000 [05:49<00:33, 118.53it/s]"
     ]
    },
    {
     "name": "stdout",
     "output_type": "stream",
     "text": [
      "\n",
      "\tMade it to the top 1000 times out of 1000, 100.0% of the episodes\n",
      "\n"
     ]
    },
    {
     "name": "stderr",
     "output_type": "stream",
     "text": [
      " 90%|█████████ | 27018/30000 [05:58<00:29, 101.93it/s]"
     ]
    },
    {
     "name": "stdout",
     "output_type": "stream",
     "text": [
      "\n",
      "\tMade it to the top 1000 times out of 1000, 100.0% of the episodes\n",
      "\n"
     ]
    },
    {
     "name": "stderr",
     "output_type": "stream",
     "text": [
      " 93%|█████████▎| 28020/30000 [06:08<00:21, 92.44it/s] "
     ]
    },
    {
     "name": "stdout",
     "output_type": "stream",
     "text": [
      "\n",
      "\tMade it to the top 1000 times out of 1000, 100.0% of the episodes\n",
      "\n"
     ]
    },
    {
     "name": "stderr",
     "output_type": "stream",
     "text": [
      " 97%|█████████▋| 29026/30000 [06:19<00:10, 90.34it/s]"
     ]
    },
    {
     "name": "stdout",
     "output_type": "stream",
     "text": [
      "\n",
      "\tMade it to the top 1000 times out of 1000, 100.0% of the episodes\n",
      "\n"
     ]
    },
    {
     "name": "stderr",
     "output_type": "stream",
     "text": [
      "100%|██████████| 30000/30000 [06:30<00:00, 76.85it/s]\n"
     ]
    }
   ],
   "source": [
    "# used to create plot of successful episodes\n",
    "made_it_ratio_list = []\n",
    "made_it_to_top_per_hundred = 0\n",
    "made_it_to_top_per_thousand = 0\n",
    "\n",
    "for i_episode in tqdm(range(n_episodes)):\n",
    "    # initializations\n",
    "    agent.stored_rewards = {}\n",
    "    agent.stored_states = {}\n",
    "    agent.stored_actions = {}\n",
    "    \n",
    "    T = sys.maxsize\n",
    "    t = -1\n",
    "    tau = 0\n",
    "    \n",
    "    state, info = env.reset()\n",
    "    \n",
    "    # get action probabilities from the policy\n",
    "    action_probs = agent.policy(agent.get_state(state))\n",
    "\n",
    "    # get action according to the action probabilities\n",
    "    action = np.random.choice(np.arange(number_of_actions), p=action_probs)\n",
    "    \n",
    "    # store current action and state\n",
    "    agent.stored_actions[0] = action\n",
    "    agent.stored_states[0] = state\n",
    "    \n",
    "    furthest_X = 0\n",
    "    \n",
    "    while tau < (T - 1):\n",
    "        t += 1\n",
    "        if t < T:\n",
    "            # observe environments effects after taking sampled action\n",
    "            next_state, reward, terminated, truncated, info = env.step(action)\n",
    "\n",
    "            if next_state[0] >= 0.5:\n",
    "                made_it_to_top_per_hundred += 1\n",
    "                made_it_to_top_per_thousand += 1\n",
    "            \n",
    "            # assign next_state to current state\n",
    "            state = next_state\n",
    "            agent.stored_states[(t+1) % (n+1)] = state \n",
    "            agent.stored_rewards[(t+1) % (n+1)] = reward\n",
    "        \n",
    "            if terminated or truncated:\n",
    "                T = t + 1\n",
    "            else:\n",
    "                # select and store action \n",
    "                action_probs = agent.policy(agent.get_state(state))\n",
    "                action = np.random.choice(np.arange(number_of_actions), p=action_probs)\n",
    "                agent.stored_actions[(t+1) % (n+1)] = action\n",
    "        \n",
    "        tau = t - n + 1\n",
    "        if tau >= 0:\n",
    "            agent.update(tau, n, T)\n",
    "\n",
    "        # watch every 5000th episode after the agent has trained for 10000 episodes\n",
    "        if i_episode > 9999:\n",
    "            if i_episode % 5000 == 0:\n",
    "                img = cv2.cvtColor(env.render(), cv2.COLOR_RGB2BGR)\n",
    "                cv2.imshow(\"test\", img)\n",
    "                cv2.waitKey(50)    \n",
    "\n",
    "    agent.decay_epsilon()\n",
    "\n",
    "    if i_episode % 100 == 0:\n",
    "        made_it_ratio = round((made_it_to_top_per_hundred/100)*100,2)\n",
    "        made_it_ratio_list.append(made_it_ratio)\n",
    "        made_it_to_top_per_hundred = 0\n",
    "        if i_episode % 1000 == 0 and i_episode != 0:\n",
    "            made_it_ratio = round((made_it_to_top_per_thousand/1000)*100,2)\n",
    "            print(f\"\\n\\tMade it to the top {made_it_to_top_per_thousand} times out of 1000, {made_it_ratio}% of the episodes\\n\")\n",
    "            made_it_to_top_per_thousand = 0\n"
   ]
  },
  {
   "attachments": {},
   "cell_type": "markdown",
   "metadata": {},
   "source": [
    "#### Plot results"
   ]
  },
  {
   "cell_type": "code",
   "execution_count": 14,
   "metadata": {},
   "outputs": [
    {
     "data": {
      "image/png": "[encoded data removed]",
      "text/plain": [
       "<Figure size 1200x500 with 2 Axes>"
      ]
     },
     "metadata": {},
     "output_type": "display_data"
    }
   ],
   "source": [
    "rolling_length = 500\n",
    "x = range(0, 300)\n",
    "fig, ax = plt.subplots(ncols=2, figsize=(12,5))\n",
    "\n",
    "ax[0].set_title(\"Success Per 100 Episodes (%)\")\n",
    "ax[0].plot(x, made_it_ratio_list)\n",
    "ax[0].set_xlabel(\"Episode\")\n",
    "ax[0].xaxis.set_major_locator(ticker.MultipleLocator(50))\n",
    "ax[0].set_xticks([tick for tick in ax[0].get_xticks()])\n",
    "ax[0].set_xticklabels([int(val * 100) for val in ax[0].get_xticks()], rotation=\"vertical\")\n",
    "\n",
    "ax[1].set_title(\"Training Error\")\n",
    "training_error_moving_average = (\n",
    "    np.convolve(np.array(agent.training_error), np.ones(rolling_length), mode=\"same\")\n",
    "    / rolling_length\n",
    ")\n",
    "ax[1].plot(range(len(training_error_moving_average)), training_error_moving_average)\n",
    "plt.tight_layout()\n",
    "plt.show()"
   ]
  },
  {
   "cell_type": "code",
   "execution_count": null,
   "metadata": {},
   "outputs": [],
   "source": []
  }
 ],
 "metadata": {
  "kernelspec": {
   "display_name": "Python 3",
   "language": "python",
   "name": "python3"
  },
  "language_info": {
   "codemirror_mode": {
    "name": "ipython",
    "version": 3
   },
   "file_extension": ".py",
   "mimetype": "text/x-python",
   "name": "python",
   "nbconvert_exporter": "python",
   "pygments_lexer": "ipython3",
   "version": "3.10.11"
  },
  "orig_nbformat": 4
 },
 "nbformat": 4,
 "nbformat_minor": 2
}
